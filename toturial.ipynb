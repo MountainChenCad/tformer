{
 "cells": [
  {
   "cell_type": "code",
   "execution_count": null,
   "metadata": {},
   "outputs": [
    {
     "name": "stderr",
     "output_type": "stream",
     "text": [
      "/opt/conda/envs/time_qa/lib/python3.10/site-packages/tqdm/auto.py:21: TqdmWarning: IProgress not found. Please update jupyter and ipywidgets. See https://ipywidgets.readthedocs.io/en/stable/user_install.html\n",
      "  from .autonotebook import tqdm as notebook_tqdm\n",
      "Detected kernel version 5.4.0, which is below the recommended minimum of 5.5.0; this can cause the process to hang. It is recommended to upgrade the kernel to the minimum version or higher.\n"
     ]
    }
   ],
   "source": [
    "import yaml\n",
    "import random\n",
    "import numpy as np\n",
    "import torch\n",
    "from transformers import AutoTokenizer, AutoProcessor\n",
    "from dataset.dataset import TsQaDataset, DataCollator\n",
    "from models.TimeLanguageModel import TLM, TLMConfig"
   ]
  },
  {
   "cell_type": "code",
   "execution_count": 2,
   "metadata": {},
   "outputs": [],
   "source": [
    "seed = 42\n",
    "random.seed(seed)\n",
    "np.random.seed(seed)\n",
    "torch.manual_seed(seed)\n",
    "torch.cuda.manual_seed(seed)\n",
    "torch.cuda.manual_seed_all(seed)"
   ]
  },
  {
   "cell_type": "code",
   "execution_count": 3,
   "metadata": {},
   "outputs": [
    {
     "name": "stdout",
     "output_type": "stream",
     "text": [
      "🛠️ 加载配置文件内容:\n",
      "  model: TimeSeriesEncoder\n",
      "  d_model: 512\n",
      "  n_heads: 8\n",
      "  e_layers: 4\n",
      "  patch_len: 60\n",
      "  stride: 60\n",
      "  input_len: 600\n",
      "  dropout: 0.1\n",
      "  tt_d_model: 896\n",
      "  tt_n_heads: 16\n",
      "  tt_layers: 2\n",
      "  tt_dropout: 0.1\n",
      "  prefix_num: 25\n",
      "  llm_model_path: /inspire/hdd/ws-f4d69b29-e0a5-44e6-bd92-acf4de9990f0/public-project/weizhongyu-24036/time_series/Time-QA-new/LLM/Qwen2.5-7B-Instruct\n",
      "  pretrain: False\n",
      "  min_mask_ratio: 0.7\n",
      "  max_mask_ratio: 0.8\n",
      "  ts_path_test: dataset/dataset_processing/data_merged_new.h5\n",
      "  qa_path_test: dataset/dataset_processing/test_sw3000.jsonl\n",
      "  do_train: True\n",
      "  per_device_train_batch_size: 6\n",
      "  per_device_eval_batch_size: 6\n",
      "  learning_rate: 3e-05\n",
      "  gradient_accumulation_steps: 1\n",
      "  num_train_epochs: 2\n",
      "  weight_decay: 1e-06\n",
      "  freeze_ts_model: True\n",
      "  fp16: True\n",
      "  dataloader_pin_memory: True\n",
      "  dataloader_num_workers: 4\n"
     ]
    }
   ],
   "source": [
    "with open('yaml/qwen7B_infer.yaml', 'r') as f:\n",
    "    config = yaml.safe_load(f)\n",
    "print(\"🛠️ 加载配置文件内容:\")\n",
    "for k, v in config.items():\n",
    "    print(f\"  {k}: {v}\")\n",
    "\n",
    "class ConfigObject:\n",
    "    \"\"\"递归将字典转换为嵌套对象\"\"\"\n",
    "    def __init__(self, data):\n",
    "        for key, value in data.items():\n",
    "            # 递归处理嵌套字典\n",
    "            if isinstance(value, dict):\n",
    "                setattr(self, key, ConfigObject(value))\n",
    "            # 直接赋值非字典类型\n",
    "            else:\n",
    "                setattr(self, key, value)\n",
    "args=ConfigObject(config)"
   ]
  },
  {
   "cell_type": "code",
   "execution_count": 4,
   "metadata": {},
   "outputs": [
    {
     "name": "stdout",
     "output_type": "stream",
     "text": [
      "<class '__main__.ConfigObject'>\n"
     ]
    }
   ],
   "source": [
    "print(type(args))"
   ]
  },
  {
   "cell_type": "code",
   "execution_count": 5,
   "metadata": {},
   "outputs": [],
   "source": [
    "tlmconfig = TLMConfig(\n",
    "    llm_model_path=config['llm_model_path'],\n",
    "    freeze_ts_model=config['freeze_ts_model'],\n",
    "    ts_pad_num=config['prefix_num']\n",
    ")"
   ]
  },
  {
   "cell_type": "code",
   "execution_count": 6,
   "metadata": {},
   "outputs": [
    {
     "data": {
      "text/plain": [
       "TLMConfig {\n",
       "  \"freeze_ts_model\": true,\n",
       "  \"llm_model_path\": \"/inspire/hdd/ws-f4d69b29-e0a5-44e6-bd92-acf4de9990f0/public-project/weizhongyu-24036/time_series/Time-QA-new/LLM/Qwen2.5-7B-Instruct\",\n",
       "  \"model_type\": \"vlm_model\",\n",
       "  \"transformers_version\": \"4.47.1\",\n",
       "  \"ts_pad_num\": 25\n",
       "}"
      ]
     },
     "execution_count": 6,
     "metadata": {},
     "output_type": "execute_result"
    }
   ],
   "source": [
    "tlmconfig"
   ]
  },
  {
   "cell_type": "code",
   "execution_count": 7,
   "metadata": {},
   "outputs": [
    {
     "name": "stderr",
     "output_type": "stream",
     "text": [
      "Loading checkpoint shards: 100%|██████████| 7/7 [00:01<00:00,  5.03it/s]\n"
     ]
    },
    {
     "name": "stdout",
     "output_type": "stream",
     "text": [
      "🧊 Completely freezing ALL LLM parameters\n",
      "🧊 Frozen: model.embed_tokens.weight\n",
      "🧊 Frozen: lm_head.weight\n",
      "🧊 Freezing Time Series Encoder\n",
      "🔥 itformer: 47,908,224 trainable parameters\n",
      "🔥 ts_project: 459,648 trainable parameters\n",
      "🔥 query_project: 3,212,160 trainable parameters\n",
      "🔥 fusion_project: 3,214,848 trainable parameters\n",
      "\n",
      "📊 详细参数统计:\n",
      "总参数: 7,687,285,948\n",
      "可训练参数: 54,794,880\n",
      "可训练比例: 0.71%\n",
      "\n",
      "📋 各模块详情:\n",
      "🧊 llm_model      :          0 / 7,615,616,512 (  0.0%)\n",
      "🧊 ts_encoder     :          0 / 16,874,556 (  0.0%)\n",
      "🔥 itformer       : 47,908,224 / 47,908,224 (100.0%)\n",
      "🔥 ts_project     :    459,648 /    459,648 (100.0%)\n",
      "🔥 query_project  :  3,212,160 /  3,212,160 (100.0%)\n",
      "🔥 fusion_project :  3,214,848 /  3,214,848 (100.0%)\n"
     ]
    },
    {
     "name": "stderr",
     "output_type": "stream",
     "text": [
      "Loading checkpoint shards: 100%|██████████| 7/7 [00:01<00:00,  5.09it/s]\n"
     ]
    }
   ],
   "source": [
    "model = TLM.from_pretrained('/inspire/hdd/ws-f4d69b29-e0a5-44e6-bd92-acf4de9990f0/public-project/weizhongyu-24036/time_series/Time-QA-new/save/sft_v2_5epoch_qwen_7B/checkpoint-6346', config=tlmconfig, ts_config=args).cuda()"
   ]
  },
  {
   "cell_type": "code",
   "execution_count": 8,
   "metadata": {},
   "outputs": [
    {
     "data": {
      "text/plain": [
       "TLM(\n",
       "  (llm_model): Qwen2ForCausalLM(\n",
       "    (model): Qwen2Model(\n",
       "      (embed_tokens): Embedding(152064, 3584)\n",
       "      (layers): ModuleList(\n",
       "        (0-27): 28 x Qwen2DecoderLayer(\n",
       "          (self_attn): Qwen2SdpaAttention(\n",
       "            (q_proj): Linear(in_features=3584, out_features=3584, bias=True)\n",
       "            (k_proj): Linear(in_features=3584, out_features=512, bias=True)\n",
       "            (v_proj): Linear(in_features=3584, out_features=512, bias=True)\n",
       "            (o_proj): Linear(in_features=3584, out_features=3584, bias=False)\n",
       "            (rotary_emb): Qwen2RotaryEmbedding()\n",
       "          )\n",
       "          (mlp): Qwen2MLP(\n",
       "            (gate_proj): Linear(in_features=3584, out_features=18944, bias=False)\n",
       "            (up_proj): Linear(in_features=3584, out_features=18944, bias=False)\n",
       "            (down_proj): Linear(in_features=18944, out_features=3584, bias=False)\n",
       "            (act_fn): SiLU()\n",
       "          )\n",
       "          (input_layernorm): Qwen2RMSNorm((3584,), eps=1e-06)\n",
       "          (post_attention_layernorm): Qwen2RMSNorm((3584,), eps=1e-06)\n",
       "        )\n",
       "      )\n",
       "      (norm): Qwen2RMSNorm((3584,), eps=1e-06)\n",
       "      (rotary_emb): Qwen2RotaryEmbedding()\n",
       "    )\n",
       "    (lm_head): Linear(in_features=3584, out_features=152064, bias=False)\n",
       "  )\n",
       "  (ts_encoder): Model(\n",
       "    (patchfy): Patchfy()\n",
       "    (layers): ModuleList(\n",
       "      (0-3): 4 x BasicBlock(\n",
       "        (seq_att_block): SeqAttBlock(\n",
       "          (norm1): LayerNorm((512,), eps=1e-05, elementwise_affine=True)\n",
       "          (attn_seq): SeqAttention(\n",
       "            (qkv): Linear(in_features=512, out_features=1536, bias=True)\n",
       "            (q_norm): Identity()\n",
       "            (k_norm): Identity()\n",
       "            (attn_drop): Dropout(p=0.1, inplace=False)\n",
       "            (proj): Linear(in_features=512, out_features=512, bias=True)\n",
       "            (proj_drop): Dropout(p=0.1, inplace=False)\n",
       "          )\n",
       "          (drop_path1): Identity()\n",
       "        )\n",
       "        (var_att_block): VarAttBlock(\n",
       "          (norm1): LayerNorm((512,), eps=1e-05, elementwise_affine=True)\n",
       "          (attn_var): VarAttention(\n",
       "            (qkv): Linear(in_features=512, out_features=1536, bias=True)\n",
       "            (q_norm): Identity()\n",
       "            (k_norm): Identity()\n",
       "            (attn_drop): Dropout(p=0.1, inplace=False)\n",
       "            (proj): Linear(in_features=512, out_features=512, bias=True)\n",
       "            (proj_drop): Dropout(p=0.1, inplace=False)\n",
       "          )\n",
       "          (drop_path1): Identity()\n",
       "        )\n",
       "        (feed_forward): FeedFoward(\n",
       "          (fc1): Linear(in_features=512, out_features=2048, bias=True)\n",
       "          (act): GELU(approximate='none')\n",
       "          (drop1): Dropout(p=0.1, inplace=False)\n",
       "          (norm): Identity()\n",
       "          (fc2): Linear(in_features=2048, out_features=512, bias=True)\n",
       "          (drop2): Dropout(p=0.1, inplace=False)\n",
       "        )\n",
       "      )\n",
       "    )\n",
       "    (norm): LayerNorm((512,), eps=1e-05, elementwise_affine=True)\n",
       "    (patch_embedding): Sequential(\n",
       "      (0): Linear(in_features=60, out_features=512, bias=False)\n",
       "      (1): Dropout(p=0.1, inplace=False)\n",
       "    )\n",
       "    (proj_head): Linear(in_features=512, out_features=60, bias=True)\n",
       "  )\n",
       "  (itformer): ITformer(\n",
       "    (layers): ModuleList(\n",
       "      (0-1): 2 x DecoderBasicBlock(\n",
       "        (self_attn): SelfAttBlock(\n",
       "          (norm1): LayerNorm((896,), eps=1e-05, elementwise_affine=True)\n",
       "          (attn_seq): SeqAttention(\n",
       "            (qkv): Linear(in_features=896, out_features=2688, bias=True)\n",
       "            (q_norm): Identity()\n",
       "            (k_norm): Identity()\n",
       "            (attn_drop): Dropout(p=0.1, inplace=False)\n",
       "            (proj): Linear(in_features=896, out_features=896, bias=True)\n",
       "            (proj_drop): Dropout(p=0.1, inplace=False)\n",
       "          )\n",
       "          (drop_path1): Identity()\n",
       "        )\n",
       "        (it_attn): ITAttBlock(\n",
       "          (norm1): LayerNorm((896,), eps=1e-05, elementwise_affine=True)\n",
       "          (attn_it): InstructTimeAttention(\n",
       "            (q_norm): Identity()\n",
       "            (k_norm): Identity()\n",
       "            (query_proj): Linear(in_features=896, out_features=896, bias=True)\n",
       "            (key_proj): Linear(in_features=896, out_features=896, bias=True)\n",
       "            (value_proj): Linear(in_features=896, out_features=896, bias=True)\n",
       "            (channel_query_proj): Linear(in_features=896, out_features=896, bias=True)\n",
       "            (channel_key_proj): Linear(in_features=896, out_features=896, bias=True)\n",
       "            (channel_value_proj): Linear(in_features=896, out_features=896, bias=True)\n",
       "            (attn_drop): Dropout(p=0.1, inplace=False)\n",
       "            (proj): Linear(in_features=896, out_features=896, bias=True)\n",
       "          )\n",
       "          (drop_path1): Identity()\n",
       "        )\n",
       "        (feed_forward_prefix): Sequential(\n",
       "          (0): LayerNorm((896,), eps=1e-05, elementwise_affine=True)\n",
       "          (1): Linear(in_features=896, out_features=3584, bias=True)\n",
       "          (2): GELU(approximate='none')\n",
       "          (3): Dropout(p=0.1, inplace=False)\n",
       "          (4): Linear(in_features=3584, out_features=896, bias=True)\n",
       "        )\n",
       "        (feed_forward_instruct): Sequential(\n",
       "          (0): LayerNorm((896,), eps=1e-05, elementwise_affine=True)\n",
       "          (1): Linear(in_features=896, out_features=3584, bias=True)\n",
       "          (2): GELU(approximate='none')\n",
       "          (3): Dropout(p=0.1, inplace=False)\n",
       "          (4): Linear(in_features=3584, out_features=896, bias=True)\n",
       "        )\n",
       "        (drop_path): Identity()\n",
       "      )\n",
       "    )\n",
       "    (norm): LayerNorm((896,), eps=1e-05, elementwise_affine=True)\n",
       "    (time_pos): SinusoidalPositionalEncoding()\n",
       "    (var_pos): LearnablePositionalEmbedding()\n",
       "    (instruc_pos): SinusoidalPositionalEncoding()\n",
       "    (cycle_pos): RotaryPositionalEncoding()\n",
       "  )\n",
       "  (ts_project): Linear(in_features=512, out_features=896, bias=True)\n",
       "  (query_project): Linear(in_features=3584, out_features=896, bias=True)\n",
       "  (fusion_project): Linear(in_features=896, out_features=3584, bias=True)\n",
       "  (loss_fct): CrossEntropyLoss()\n",
       ")"
      ]
     },
     "execution_count": 8,
     "metadata": {},
     "output_type": "execute_result"
    }
   ],
   "source": [
    "model"
   ]
  },
  {
   "cell_type": "code",
   "execution_count": 9,
   "metadata": {},
   "outputs": [
    {
     "data": {
      "text/plain": [
       "TLM(\n",
       "  (llm_model): Qwen2ForCausalLM(\n",
       "    (model): Qwen2Model(\n",
       "      (embed_tokens): Embedding(152064, 3584)\n",
       "      (layers): ModuleList(\n",
       "        (0-27): 28 x Qwen2DecoderLayer(\n",
       "          (self_attn): Qwen2SdpaAttention(\n",
       "            (q_proj): Linear(in_features=3584, out_features=3584, bias=True)\n",
       "            (k_proj): Linear(in_features=3584, out_features=512, bias=True)\n",
       "            (v_proj): Linear(in_features=3584, out_features=512, bias=True)\n",
       "            (o_proj): Linear(in_features=3584, out_features=3584, bias=False)\n",
       "            (rotary_emb): Qwen2RotaryEmbedding()\n",
       "          )\n",
       "          (mlp): Qwen2MLP(\n",
       "            (gate_proj): Linear(in_features=3584, out_features=18944, bias=False)\n",
       "            (up_proj): Linear(in_features=3584, out_features=18944, bias=False)\n",
       "            (down_proj): Linear(in_features=18944, out_features=3584, bias=False)\n",
       "            (act_fn): SiLU()\n",
       "          )\n",
       "          (input_layernorm): Qwen2RMSNorm((3584,), eps=1e-06)\n",
       "          (post_attention_layernorm): Qwen2RMSNorm((3584,), eps=1e-06)\n",
       "        )\n",
       "      )\n",
       "      (norm): Qwen2RMSNorm((3584,), eps=1e-06)\n",
       "      (rotary_emb): Qwen2RotaryEmbedding()\n",
       "    )\n",
       "    (lm_head): Linear(in_features=3584, out_features=152064, bias=False)\n",
       "  )\n",
       "  (ts_encoder): Model(\n",
       "    (patchfy): Patchfy()\n",
       "    (layers): ModuleList(\n",
       "      (0-3): 4 x BasicBlock(\n",
       "        (seq_att_block): SeqAttBlock(\n",
       "          (norm1): LayerNorm((512,), eps=1e-05, elementwise_affine=True)\n",
       "          (attn_seq): SeqAttention(\n",
       "            (qkv): Linear(in_features=512, out_features=1536, bias=True)\n",
       "            (q_norm): Identity()\n",
       "            (k_norm): Identity()\n",
       "            (attn_drop): Dropout(p=0.1, inplace=False)\n",
       "            (proj): Linear(in_features=512, out_features=512, bias=True)\n",
       "            (proj_drop): Dropout(p=0.1, inplace=False)\n",
       "          )\n",
       "          (drop_path1): Identity()\n",
       "        )\n",
       "        (var_att_block): VarAttBlock(\n",
       "          (norm1): LayerNorm((512,), eps=1e-05, elementwise_affine=True)\n",
       "          (attn_var): VarAttention(\n",
       "            (qkv): Linear(in_features=512, out_features=1536, bias=True)\n",
       "            (q_norm): Identity()\n",
       "            (k_norm): Identity()\n",
       "            (attn_drop): Dropout(p=0.1, inplace=False)\n",
       "            (proj): Linear(in_features=512, out_features=512, bias=True)\n",
       "            (proj_drop): Dropout(p=0.1, inplace=False)\n",
       "          )\n",
       "          (drop_path1): Identity()\n",
       "        )\n",
       "        (feed_forward): FeedFoward(\n",
       "          (fc1): Linear(in_features=512, out_features=2048, bias=True)\n",
       "          (act): GELU(approximate='none')\n",
       "          (drop1): Dropout(p=0.1, inplace=False)\n",
       "          (norm): Identity()\n",
       "          (fc2): Linear(in_features=2048, out_features=512, bias=True)\n",
       "          (drop2): Dropout(p=0.1, inplace=False)\n",
       "        )\n",
       "      )\n",
       "    )\n",
       "    (norm): LayerNorm((512,), eps=1e-05, elementwise_affine=True)\n",
       "    (patch_embedding): Sequential(\n",
       "      (0): Linear(in_features=60, out_features=512, bias=False)\n",
       "      (1): Dropout(p=0.1, inplace=False)\n",
       "    )\n",
       "    (proj_head): Linear(in_features=512, out_features=60, bias=True)\n",
       "  )\n",
       "  (itformer): ITformer(\n",
       "    (layers): ModuleList(\n",
       "      (0-1): 2 x DecoderBasicBlock(\n",
       "        (self_attn): SelfAttBlock(\n",
       "          (norm1): LayerNorm((896,), eps=1e-05, elementwise_affine=True)\n",
       "          (attn_seq): SeqAttention(\n",
       "            (qkv): Linear(in_features=896, out_features=2688, bias=True)\n",
       "            (q_norm): Identity()\n",
       "            (k_norm): Identity()\n",
       "            (attn_drop): Dropout(p=0.1, inplace=False)\n",
       "            (proj): Linear(in_features=896, out_features=896, bias=True)\n",
       "            (proj_drop): Dropout(p=0.1, inplace=False)\n",
       "          )\n",
       "          (drop_path1): Identity()\n",
       "        )\n",
       "        (it_attn): ITAttBlock(\n",
       "          (norm1): LayerNorm((896,), eps=1e-05, elementwise_affine=True)\n",
       "          (attn_it): InstructTimeAttention(\n",
       "            (q_norm): Identity()\n",
       "            (k_norm): Identity()\n",
       "            (query_proj): Linear(in_features=896, out_features=896, bias=True)\n",
       "            (key_proj): Linear(in_features=896, out_features=896, bias=True)\n",
       "            (value_proj): Linear(in_features=896, out_features=896, bias=True)\n",
       "            (channel_query_proj): Linear(in_features=896, out_features=896, bias=True)\n",
       "            (channel_key_proj): Linear(in_features=896, out_features=896, bias=True)\n",
       "            (channel_value_proj): Linear(in_features=896, out_features=896, bias=True)\n",
       "            (attn_drop): Dropout(p=0.1, inplace=False)\n",
       "            (proj): Linear(in_features=896, out_features=896, bias=True)\n",
       "          )\n",
       "          (drop_path1): Identity()\n",
       "        )\n",
       "        (feed_forward_prefix): Sequential(\n",
       "          (0): LayerNorm((896,), eps=1e-05, elementwise_affine=True)\n",
       "          (1): Linear(in_features=896, out_features=3584, bias=True)\n",
       "          (2): GELU(approximate='none')\n",
       "          (3): Dropout(p=0.1, inplace=False)\n",
       "          (4): Linear(in_features=3584, out_features=896, bias=True)\n",
       "        )\n",
       "        (feed_forward_instruct): Sequential(\n",
       "          (0): LayerNorm((896,), eps=1e-05, elementwise_affine=True)\n",
       "          (1): Linear(in_features=896, out_features=3584, bias=True)\n",
       "          (2): GELU(approximate='none')\n",
       "          (3): Dropout(p=0.1, inplace=False)\n",
       "          (4): Linear(in_features=3584, out_features=896, bias=True)\n",
       "        )\n",
       "        (drop_path): Identity()\n",
       "      )\n",
       "    )\n",
       "    (norm): LayerNorm((896,), eps=1e-05, elementwise_affine=True)\n",
       "    (time_pos): SinusoidalPositionalEncoding()\n",
       "    (var_pos): LearnablePositionalEmbedding()\n",
       "    (instruc_pos): SinusoidalPositionalEncoding()\n",
       "    (cycle_pos): RotaryPositionalEncoding()\n",
       "  )\n",
       "  (ts_project): Linear(in_features=512, out_features=896, bias=True)\n",
       "  (query_project): Linear(in_features=3584, out_features=896, bias=True)\n",
       "  (fusion_project): Linear(in_features=896, out_features=3584, bias=True)\n",
       "  (loss_fct): CrossEntropyLoss()\n",
       ")"
      ]
     },
     "execution_count": 9,
     "metadata": {},
     "output_type": "execute_result"
    }
   ],
   "source": [
    "model.eval()"
   ]
  },
  {
   "cell_type": "code",
   "execution_count": 10,
   "metadata": {},
   "outputs": [
    {
     "name": "stdout",
     "output_type": "stream",
     "text": [
      "✅ 模型加载完成! 参数量: 7687.29M\n"
     ]
    }
   ],
   "source": [
    "print(f\"✅ 模型加载完成! 参数量: {sum(p.numel() for p in model.parameters())/1e6:.2f}M\")"
   ]
  },
  {
   "cell_type": "code",
   "execution_count": 11,
   "metadata": {},
   "outputs": [],
   "source": [
    "tokenizer = AutoTokenizer.from_pretrained(tlmconfig.llm_model_path)\n",
    "tokenizer.padding_side = 'left'\n",
    "processor = AutoProcessor.from_pretrained(tlmconfig.llm_model_path)"
   ]
  },
  {
   "cell_type": "code",
   "execution_count": 12,
   "metadata": {},
   "outputs": [
    {
     "name": "stdout",
     "output_type": "stream",
     "text": [
      "📊 Vocab size: 151665\n",
      "🔍 验证特殊token:\n",
      "✅ pad_token_id = 151643\n",
      "✅ eos_token_id = 151645\n"
     ]
    }
   ],
   "source": [
    "test_dataset = TsQaDataset(\n",
    "    config['ts_path_test'],\n",
    "    config['qa_path_test'],\n",
    "    tokenizer,\n",
    "    processor,\n",
    "    tlmconfig\n",
    ")"
   ]
  },
  {
   "cell_type": "code",
   "execution_count": 13,
   "metadata": {},
   "outputs": [
    {
     "name": "stdout",
     "output_type": "stream",
     "text": [
      "42477\n"
     ]
    }
   ],
   "source": [
    "print(len(test_dataset))"
   ]
  },
  {
   "cell_type": "code",
   "execution_count": 24,
   "metadata": {},
   "outputs": [
    {
     "data": {
      "text/plain": [
       "{'form': 'open',\n",
       " 'stage': 1,\n",
       " 'query_ids': [641,\n",
       "  279,\n",
       "  2266,\n",
       "  315,\n",
       "  279,\n",
       "  3897,\n",
       "  4712,\n",
       "  8286,\n",
       "  11,\n",
       "  1128,\n",
       "  374,\n",
       "  279,\n",
       "  23560,\n",
       "  13042,\n",
       "  323,\n",
       "  24586,\n",
       "  25361,\n",
       "  315,\n",
       "  279,\n",
       "  2297,\n",
       "  304,\n",
       "  10657,\n",
       "  37022,\n",
       "  518,\n",
       "  279,\n",
       "  12041,\n",
       "  12,\n",
       "  68269,\n",
       "  1198,\n",
       "  56220,\n",
       "  320,\n",
       "  43,\n",
       "  4872,\n",
       "  8,\n",
       "  26389,\n",
       "  13166,\n",
       "  2337,\n",
       "  264,\n",
       "  3175,\n",
       "  10775,\n",
       "  5267,\n",
       "  366,\n",
       "  2576,\n",
       "  29],\n",
       " 'input_ids': [151644,\n",
       "  8948,\n",
       "  198,\n",
       "  2610,\n",
       "  525,\n",
       "  264,\n",
       "  10950,\n",
       "  17847,\n",
       "  13,\n",
       "  151645,\n",
       "  198,\n",
       "  151644,\n",
       "  872,\n",
       "  198,\n",
       "  641,\n",
       "  279,\n",
       "  2266,\n",
       "  315,\n",
       "  279,\n",
       "  3897,\n",
       "  4712,\n",
       "  8286,\n",
       "  11,\n",
       "  1128,\n",
       "  374,\n",
       "  279,\n",
       "  23560,\n",
       "  13042,\n",
       "  323,\n",
       "  24586,\n",
       "  25361,\n",
       "  315,\n",
       "  279,\n",
       "  2297,\n",
       "  304,\n",
       "  10657,\n",
       "  37022,\n",
       "  518,\n",
       "  279,\n",
       "  12041,\n",
       "  12,\n",
       "  68269,\n",
       "  1198,\n",
       "  56220,\n",
       "  320,\n",
       "  43,\n",
       "  4872,\n",
       "  8,\n",
       "  26389,\n",
       "  13166,\n",
       "  2337,\n",
       "  264,\n",
       "  3175,\n",
       "  10775,\n",
       "  5267,\n",
       "  220,\n",
       "  151655,\n",
       "  151655,\n",
       "  151655,\n",
       "  151655,\n",
       "  151655,\n",
       "  151655,\n",
       "  151655,\n",
       "  151655,\n",
       "  151655,\n",
       "  151655,\n",
       "  151655,\n",
       "  151655,\n",
       "  151655,\n",
       "  151655,\n",
       "  151655,\n",
       "  151655,\n",
       "  151655,\n",
       "  151655,\n",
       "  151655,\n",
       "  151655,\n",
       "  151655,\n",
       "  151655,\n",
       "  151655,\n",
       "  151655,\n",
       "  151655,\n",
       "  151645,\n",
       "  198,\n",
       "  151644,\n",
       "  77091,\n",
       "  198],\n",
       " 'labels': [785,\n",
       "  10657,\n",
       "  37022,\n",
       "  518,\n",
       "  279,\n",
       "  49075,\n",
       "  26389,\n",
       "  8458,\n",
       "  20699,\n",
       "  15175,\n",
       "  13,\n",
       "  1096,\n",
       "  19753,\n",
       "  77764,\n",
       "  264,\n",
       "  14720,\n",
       "  323,\n",
       "  24020,\n",
       "  58877,\n",
       "  5068,\n",
       "  11,\n",
       "  44196,\n",
       "  279,\n",
       "  19265,\n",
       "  315,\n",
       "  5089,\n",
       "  9315,\n",
       "  64549,\n",
       "  6814,\n",
       "  279,\n",
       "  10775,\n",
       "  13,\n",
       "  151645],\n",
       " 'ts_values': tensor([[ 0.6419,  0.5736, -0.5397,  ...,  0.6029, -0.8968, -0.3937],\n",
       "         [ 0.6410,  0.5736, -0.5397,  ...,  0.6214, -0.9100, -0.3937],\n",
       "         [ 0.6401,  0.5731, -0.5397,  ...,  0.6165, -0.9060, -0.3937],\n",
       "         ...,\n",
       "         [ 0.0697,  0.1542, -1.5299,  ...,  1.5204, -1.8887, -0.3937],\n",
       "         [ 0.0686,  0.1537, -1.5299,  ...,  1.5198, -1.8883, -0.3937],\n",
       "         [ 0.0674,  0.1527, -1.5299,  ...,  1.5196, -1.8881, -0.3937]]),\n",
       " 'index': 659}"
      ]
     },
     "execution_count": 24,
     "metadata": {},
     "output_type": "execute_result"
    }
   ],
   "source": [
    "random_index = random.randint(1, len(test_dataset)) \n",
    "sample = test_dataset[random_index]\n",
    "sample\n"
   ]
  },
  {
   "cell_type": "code",
   "execution_count": 25,
   "metadata": {},
   "outputs": [
    {
     "name": "stdout",
     "output_type": "stream",
     "text": [
      "  form: open\n",
      "  stage: 1\n",
      "  query_ids: [641, 279, 2266, 315, 279, 3897, 4712, 8286, 11, 1128, 374, 279, 23560, 13042, 323, 24586, 25361, 315, 279, 2297, 304, 10657, 37022, 518, 279, 12041, 12, 68269, 1198, 56220, 320, 43, 4872, 8, 26389, 13166, 2337, 264, 3175, 10775, 5267, 366, 2576, 29]\n",
      "  input_ids: [151644, 8948, 198, 2610, 525, 264, 10950, 17847, 13, 151645, 198, 151644, 872, 198, 641, 279, 2266, 315, 279, 3897, 4712, 8286, 11, 1128, 374, 279, 23560, 13042, 323, 24586, 25361, 315, 279, 2297, 304, 10657, 37022, 518, 279, 12041, 12, 68269, 1198, 56220, 320, 43, 4872, 8, 26389, 13166, 2337, 264, 3175, 10775, 5267, 220, 151655, 151655, 151655, 151655, 151655, 151655, 151655, 151655, 151655, 151655, 151655, 151655, 151655, 151655, 151655, 151655, 151655, 151655, 151655, 151655, 151655, 151655, 151655, 151655, 151655, 151645, 198, 151644, 77091, 198]\n",
      "  labels: [785, 10657, 37022, 518, 279, 49075, 26389, 8458, 20699, 15175, 13, 1096, 19753, 77764, 264, 14720, 323, 24020, 58877, 5068, 11, 44196, 279, 19265, 315, 5089, 9315, 64549, 6814, 279, 10775, 13, 151645]\n",
      "  ts_values: 形状 torch.Size([600, 33]), dtype torch.float32\n",
      "  index: 659\n"
     ]
    }
   ],
   "source": [
    "for key, value in sample.items():\n",
    "    if torch.is_tensor(value):\n",
    "        print(f\"  {key}: 形状 {value.shape}, dtype {value.dtype}\")\n",
    "    else:\n",
    "        print(f\"  {key}: {value}\")"
   ]
  },
  {
   "cell_type": "code",
   "execution_count": 26,
   "metadata": {},
   "outputs": [
    {
     "name": "stdout",
     "output_type": "stream",
     "text": [
      "Collated keys: ['input_ids', 'attention_mask', 'labels', 'ts_values', 'stage', 'index', 'query_ids']\n"
     ]
    }
   ],
   "source": [
    "data_collator = DataCollator(tokenizer=tokenizer)\n",
    "collated = data_collator([sample])\n",
    "print(f\"Collated keys: {list(collated.keys())}\")"
   ]
  },
  {
   "cell_type": "code",
   "execution_count": 27,
   "metadata": {},
   "outputs": [],
   "source": [
    "input_ids = collated['input_ids'].cuda()\n",
    "ts_values = collated['ts_values'].cuda()\n",
    "attention_mask = collated['attention_mask'].cuda()\n",
    "query_ids = collated['query_ids'].cuda()\n",
    "stages = collated['stage'].cuda()"
   ]
  },
  {
   "cell_type": "code",
   "execution_count": 28,
   "metadata": {},
   "outputs": [
    {
     "data": {
      "text/plain": [
       "torch.Tensor"
      ]
     },
     "execution_count": 28,
     "metadata": {},
     "output_type": "execute_result"
    }
   ],
   "source": [
    "type(collated['ts_values'])"
   ]
  },
  {
   "cell_type": "code",
   "execution_count": 29,
   "metadata": {},
   "outputs": [
    {
     "data": {
      "text/plain": [
       "'system\\nYou are a helpful assistant.\\nuser\\nIn the context of the provided engine signal, what is the precise representation and operational significance of the change in Total Temperature at the Low-Pressure Compressor (LPC) outlet observed during a single cycle?\\n \\nassistant\\n'"
      ]
     },
     "execution_count": 29,
     "metadata": {},
     "output_type": "execute_result"
    }
   ],
   "source": [
    "raw_text = tokenizer.decode(input_ids[0].cpu().numpy(), skip_special_tokens=True)\n",
    "raw_text"
   ]
  },
  {
   "cell_type": "code",
   "execution_count": 30,
   "metadata": {},
   "outputs": [],
   "source": [
    "with torch.no_grad():\n",
    "    generated_ids = model.generate(\n",
    "        input_ids=input_ids,\n",
    "        query_ids=query_ids,\n",
    "        ts_values=ts_values,\n",
    "        stage=stages,\n",
    "        attention_mask=attention_mask,\n",
    "        max_new_tokens=128,\n",
    "        eos_token_id=tokenizer.eos_token_id,\n",
    "        pad_token_id=tokenizer.pad_token_id,\n",
    "        do_sample=True,\n",
    "        temperature=0.7,\n",
    "        num_beams=1\n",
    "    )"
   ]
  },
  {
   "cell_type": "code",
   "execution_count": 31,
   "metadata": {},
   "outputs": [
    {
     "name": "stdout",
     "output_type": "stream",
     "text": [
      "system\n",
      "You are a helpful assistant.\n",
      "user\n",
      "In the context of the provided engine signal, what is the precise representation and operational significance of the change in Total Temperature at the Low-Pressure Compressor (LPC) outlet observed during a single cycle?\n",
      " \n",
      "assistant\n",
      "The Total Temperature at the LPC outlet remains constant throughout the cycle, indicating stable operational conditions.\n",
      "-threats_to_the_environment\n",
      "The Total Temperature at the LPC outlet remains constant throughout the cycle, indicating stable operational conditions.\n",
      "-threats_to_the_environment\n"
     ]
    }
   ],
   "source": [
    "decoded_full = tokenizer.batch_decode(generated_ids, skip_special_tokens=True)[0]\n",
    "prediction = decoded_full.split('assistant\\n')[-1] if 'assistant\\n' in decoded_full else decoded_full\n",
    "print(decoded_full)\n",
    "print(prediction)"
   ]
  },
  {
   "cell_type": "code",
   "execution_count": 32,
   "metadata": {},
   "outputs": [
    {
     "data": {
      "text/plain": [
       "'The Total Temperature at the LPC outlet remains consistently stable. This stability signifies a reliable and steady compressor performance, demonstrating the absence of significant temperature fluctuations throughout the cycle.'"
      ]
     },
     "execution_count": 32,
     "metadata": {},
     "output_type": "execute_result"
    }
   ],
   "source": [
    "label_text = tokenizer.batch_decode(collated['labels'], skip_special_tokens=True)[0]\n",
    "label_text"
   ]
  }
 ],
 "metadata": {
  "kernelspec": {
   "display_name": "time_qa",
   "language": "python",
   "name": "python3"
  },
  "language_info": {
   "codemirror_mode": {
    "name": "ipython",
    "version": 3
   },
   "file_extension": ".py",
   "mimetype": "text/x-python",
   "name": "python",
   "nbconvert_exporter": "python",
   "pygments_lexer": "ipython3",
   "version": "3.10.16"
  }
 },
 "nbformat": 4,
 "nbformat_minor": 2
}
